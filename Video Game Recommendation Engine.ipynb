{
 "cells": [
  {
   "cell_type": "markdown",
   "metadata": {},
   "source": [
    "# Libraries"
   ]
  },
  {
   "cell_type": "code",
   "execution_count": 1,
   "metadata": {},
   "outputs": [],
   "source": [
    "import numpy as np\n",
    "import pandas as pd\n",
    "import matplotlib.pyplot as plt\n",
    "from sklearn import preprocessing\n",
    "import seaborn as sns\n",
    "import csv\n",
    "from ast import literal_eval"
   ]
  },
  {
   "cell_type": "markdown",
   "metadata": {},
   "source": [
    "#  &#187; METACRITIC DATASET  &#171;"
   ]
  },
  {
   "cell_type": "code",
   "execution_count": 30,
   "metadata": {},
   "outputs": [
    {
     "data": {
      "text/html": [
       "<div>\n",
       "<style scoped>\n",
       "    .dataframe tbody tr th:only-of-type {\n",
       "        vertical-align: middle;\n",
       "    }\n",
       "\n",
       "    .dataframe tbody tr th {\n",
       "        vertical-align: top;\n",
       "    }\n",
       "\n",
       "    .dataframe thead th {\n",
       "        text-align: right;\n",
       "    }\n",
       "</style>\n",
       "<table border=\"1\" class=\"dataframe\">\n",
       "  <thead>\n",
       "    <tr style=\"text-align: right;\">\n",
       "      <th></th>\n",
       "      <th>game_title</th>\n",
       "      <th>genre</th>\n",
       "      <th>platforms</th>\n",
       "      <th>developers</th>\n",
       "      <th>release_year</th>\n",
       "      <th>release_month</th>\n",
       "      <th>release_day</th>\n",
       "      <th>average_metascore_ratings</th>\n",
       "    </tr>\n",
       "  </thead>\n",
       "  <tbody>\n",
       "    <tr>\n",
       "      <th>0</th>\n",
       "      <td>Journey</td>\n",
       "      <td>[Action, Platformer, 3D]</td>\n",
       "      <td>[PlayStation 4, PC, PlayStation 3]</td>\n",
       "      <td>[Tricky Pixels]</td>\n",
       "      <td>2015</td>\n",
       "      <td>7</td>\n",
       "      <td>21</td>\n",
       "      <td>92.00</td>\n",
       "    </tr>\n",
       "    <tr>\n",
       "      <th>1</th>\n",
       "      <td>Celeste</td>\n",
       "      <td>[Action, Platformer, 2D]</td>\n",
       "      <td>[PlayStation 4, iPhone/iPad, PC, Switch, Xbox ...</td>\n",
       "      <td>[Matt Makes Games Inc.]</td>\n",
       "      <td>2018</td>\n",
       "      <td>1</td>\n",
       "      <td>25</td>\n",
       "      <td>91.25</td>\n",
       "    </tr>\n",
       "    <tr>\n",
       "      <th>2</th>\n",
       "      <td>INSIDE</td>\n",
       "      <td>[Action, Platformer, 2D]</td>\n",
       "      <td>[PlayStation 4, iPhone/iPad, PC, Switch, Xbox ...</td>\n",
       "      <td>[PLAYDEAD]</td>\n",
       "      <td>2016</td>\n",
       "      <td>8</td>\n",
       "      <td>23</td>\n",
       "      <td>90.50</td>\n",
       "    </tr>\n",
       "    <tr>\n",
       "      <th>3</th>\n",
       "      <td>Overwatch</td>\n",
       "      <td>[Tactical, Shooter, Action, First-Person]</td>\n",
       "      <td>[PlayStation 4, PC, Xbox One]</td>\n",
       "      <td>[Blizzard Entertainment]</td>\n",
       "      <td>2016</td>\n",
       "      <td>5</td>\n",
       "      <td>23</td>\n",
       "      <td>90.67</td>\n",
       "    </tr>\n",
       "    <tr>\n",
       "      <th>4</th>\n",
       "      <td>Shovel Knight</td>\n",
       "      <td>[Action, Platformer, 2D]</td>\n",
       "      <td>[PlayStation 4, 3DS, PC, PlayStation 3, PlaySt...</td>\n",
       "      <td>[Yacht Club Games]</td>\n",
       "      <td>2015</td>\n",
       "      <td>4</td>\n",
       "      <td>21</td>\n",
       "      <td>88.22</td>\n",
       "    </tr>\n",
       "  </tbody>\n",
       "</table>\n",
       "</div>"
      ],
      "text/plain": [
       "      game_title                                      genre  \\\n",
       "0        Journey                   [Action, Platformer, 3D]   \n",
       "1        Celeste                   [Action, Platformer, 2D]   \n",
       "2         INSIDE                   [Action, Platformer, 2D]   \n",
       "3      Overwatch  [Tactical, Shooter, Action, First-Person]   \n",
       "4  Shovel Knight                   [Action, Platformer, 2D]   \n",
       "\n",
       "                                           platforms  \\\n",
       "0                 [PlayStation 4, PC, PlayStation 3]   \n",
       "1  [PlayStation 4, iPhone/iPad, PC, Switch, Xbox ...   \n",
       "2  [PlayStation 4, iPhone/iPad, PC, Switch, Xbox ...   \n",
       "3                      [PlayStation 4, PC, Xbox One]   \n",
       "4  [PlayStation 4, 3DS, PC, PlayStation 3, PlaySt...   \n",
       "\n",
       "                 developers  release_year  release_month  release_day  \\\n",
       "0           [Tricky Pixels]          2015              7           21   \n",
       "1   [Matt Makes Games Inc.]          2018              1           25   \n",
       "2                [PLAYDEAD]          2016              8           23   \n",
       "3  [Blizzard Entertainment]          2016              5           23   \n",
       "4        [Yacht Club Games]          2015              4           21   \n",
       "\n",
       "   average_metascore_ratings  \n",
       "0                      92.00  \n",
       "1                      91.25  \n",
       "2                      90.50  \n",
       "3                      90.67  \n",
       "4                      88.22  "
      ]
     },
     "execution_count": 30,
     "metadata": {},
     "output_type": "execute_result"
    }
   ],
   "source": [
    "metacritic_df = pd.read_csv(\"metacritic.csv\")\n",
    "metacritic_df = metacritic_df[['game_title', 'genre', 'platforms', 'developers',\n",
    "       'release_year', 'release_month', 'release_day',\n",
    "       'average_metascore_ratings']]\n",
    "\n",
    "#Convert columns with string values to lists\n",
    "for column in ['genre', 'platforms', 'developers']:\n",
    "    metacritic_df[column] = metacritic_df[column].apply(literal_eval)\n",
    "\n",
    "\n",
    "#Preview of first 5 rows\n",
    "metacritic_df.head(5)"
   ]
  },
  {
   "cell_type": "markdown",
   "metadata": {},
   "source": [
    "#  &#187; USER INPUT ANALYSIS &#171;"
   ]
  },
  {
   "cell_type": "markdown",
   "metadata": {},
   "source": [
    "<strong>Idea:</strong> A user would input three video game titles as basis for the recommendation engine "
   ]
  },
  {
   "cell_type": "markdown",
   "metadata": {},
   "source": [
    "## Example of user input"
   ]
  },
  {
   "cell_type": "code",
   "execution_count": 258,
   "metadata": {},
   "outputs": [
    {
     "data": {
      "text/html": [
       "<div>\n",
       "<style scoped>\n",
       "    .dataframe tbody tr th:only-of-type {\n",
       "        vertical-align: middle;\n",
       "    }\n",
       "\n",
       "    .dataframe tbody tr th {\n",
       "        vertical-align: top;\n",
       "    }\n",
       "\n",
       "    .dataframe thead th {\n",
       "        text-align: right;\n",
       "    }\n",
       "</style>\n",
       "<table border=\"1\" class=\"dataframe\">\n",
       "  <thead>\n",
       "    <tr style=\"text-align: right;\">\n",
       "      <th></th>\n",
       "      <th>game_title</th>\n",
       "      <th>genre</th>\n",
       "      <th>platforms</th>\n",
       "      <th>developers</th>\n",
       "      <th>release_year</th>\n",
       "      <th>release_month</th>\n",
       "      <th>release_day</th>\n",
       "      <th>average_metascore_ratings</th>\n",
       "    </tr>\n",
       "  </thead>\n",
       "  <tbody>\n",
       "    <tr>\n",
       "      <th>0</th>\n",
       "      <td>Dark Souls III</td>\n",
       "      <td>[Action RPG, Role-Playing]</td>\n",
       "      <td>[PlayStation 4, PC, Xbox One]</td>\n",
       "      <td>[From Software]</td>\n",
       "      <td>2016</td>\n",
       "      <td>4</td>\n",
       "      <td>12</td>\n",
       "      <td>88.33</td>\n",
       "    </tr>\n",
       "    <tr>\n",
       "      <th>1</th>\n",
       "      <td>The Elder Scrolls V: Skyrim Special Edition</td>\n",
       "      <td>[Western-Style, Role-Playing]</td>\n",
       "      <td>[PlayStation 4, PC, Switch, Xbox One]</td>\n",
       "      <td>[Bethesda Game Studios]</td>\n",
       "      <td>2016</td>\n",
       "      <td>10</td>\n",
       "      <td>28</td>\n",
       "      <td>79.00</td>\n",
       "    </tr>\n",
       "    <tr>\n",
       "      <th>2</th>\n",
       "      <td>League of Legends</td>\n",
       "      <td>[Role-Playing, MOBA, Real-Time, Strategy, Acti...</td>\n",
       "      <td>[PC]</td>\n",
       "      <td>[Riot Games]</td>\n",
       "      <td>2009</td>\n",
       "      <td>10</td>\n",
       "      <td>27</td>\n",
       "      <td>78.00</td>\n",
       "    </tr>\n",
       "  </tbody>\n",
       "</table>\n",
       "</div>"
      ],
      "text/plain": [
       "                                    game_title  \\\n",
       "0                               Dark Souls III   \n",
       "1  The Elder Scrolls V: Skyrim Special Edition   \n",
       "2                            League of Legends   \n",
       "\n",
       "                                               genre  \\\n",
       "0                         [Action RPG, Role-Playing]   \n",
       "1                      [Western-Style, Role-Playing]   \n",
       "2  [Role-Playing, MOBA, Real-Time, Strategy, Acti...   \n",
       "\n",
       "                               platforms               developers  \\\n",
       "0          [PlayStation 4, PC, Xbox One]          [From Software]   \n",
       "1  [PlayStation 4, PC, Switch, Xbox One]  [Bethesda Game Studios]   \n",
       "2                                   [PC]             [Riot Games]   \n",
       "\n",
       "   release_year  release_month  release_day  average_metascore_ratings  \n",
       "0          2016              4           12                      88.33  \n",
       "1          2016             10           28                      79.00  \n",
       "2          2009             10           27                      78.00  "
      ]
     },
     "execution_count": 258,
     "metadata": {},
     "output_type": "execute_result"
    }
   ],
   "source": [
    "user_input = ['Dark Souls III','League of Legends', 'The Elder Scrolls V: Skyrim Special Edition']\n",
    "\n",
    "# Grabs rows from the metacritic data frame based on the user's inputted games\n",
    "def user_game_data(df,titles):\n",
    "    data_frame = df[df[\"game_title\"].isin(titles)]\n",
    "    data_frame.index = range(len(data_frame.index))\n",
    "    return data_frame\n",
    "\n",
    "#Data frame generated from grabbing data\n",
    "user_df = user_game_data(metacritic_df, user_input)\n",
    "user_df"
   ]
  },
  {
   "cell_type": "markdown",
   "metadata": {},
   "source": [
    "## Analysis of user's inputted video games"
   ]
  },
  {
   "cell_type": "markdown",
   "metadata": {},
   "source": [
    "#### Function for taking unique items in each column and generating a new dataframe"
   ]
  },
  {
   "cell_type": "code",
   "execution_count": 259,
   "metadata": {},
   "outputs": [],
   "source": [
    "def count_items(df,title):\n",
    "    dic = {}\n",
    "    column = df[title]\n",
    "    for row in column:\n",
    "        for item in row:\n",
    "            if item not in dic:\n",
    "                dic[item] = 1\n",
    "            else:\n",
    "                dic[item] +=1\n",
    "    return pd.DataFrame({title : list(dic.keys()), \"count\": list(dic.values())}).sort_values(by='count', ascending = False)"
   ]
  },
  {
   "cell_type": "code",
   "execution_count": 260,
   "metadata": {},
   "outputs": [],
   "source": [
    "user_genres = count_items(user_df, 'genre')\n",
    "user_platforms = count_items(user_df, 'platforms')\n",
    "user_developers = count_items(user_df, 'developers')"
   ]
  },
  {
   "cell_type": "code",
   "execution_count": 261,
   "metadata": {},
   "outputs": [
    {
     "data": {
      "text/html": [
       "<div>\n",
       "<style scoped>\n",
       "    .dataframe tbody tr th:only-of-type {\n",
       "        vertical-align: middle;\n",
       "    }\n",
       "\n",
       "    .dataframe tbody tr th {\n",
       "        vertical-align: top;\n",
       "    }\n",
       "\n",
       "    .dataframe thead th {\n",
       "        text-align: right;\n",
       "    }\n",
       "</style>\n",
       "<table border=\"1\" class=\"dataframe\">\n",
       "  <thead>\n",
       "    <tr style=\"text-align: right;\">\n",
       "      <th></th>\n",
       "      <th>genre</th>\n",
       "      <th>count</th>\n",
       "    </tr>\n",
       "  </thead>\n",
       "  <tbody>\n",
       "    <tr>\n",
       "      <th>1</th>\n",
       "      <td>Role-Playing</td>\n",
       "      <td>3</td>\n",
       "    </tr>\n",
       "    <tr>\n",
       "      <th>0</th>\n",
       "      <td>Action RPG</td>\n",
       "      <td>2</td>\n",
       "    </tr>\n",
       "    <tr>\n",
       "      <th>2</th>\n",
       "      <td>Western-Style</td>\n",
       "      <td>1</td>\n",
       "    </tr>\n",
       "    <tr>\n",
       "      <th>3</th>\n",
       "      <td>MOBA</td>\n",
       "      <td>1</td>\n",
       "    </tr>\n",
       "    <tr>\n",
       "      <th>4</th>\n",
       "      <td>Real-Time</td>\n",
       "      <td>1</td>\n",
       "    </tr>\n",
       "    <tr>\n",
       "      <th>5</th>\n",
       "      <td>Strategy</td>\n",
       "      <td>1</td>\n",
       "    </tr>\n",
       "  </tbody>\n",
       "</table>\n",
       "</div>"
      ],
      "text/plain": [
       "           genre  count\n",
       "1   Role-Playing      3\n",
       "0     Action RPG      2\n",
       "2  Western-Style      1\n",
       "3           MOBA      1\n",
       "4      Real-Time      1\n",
       "5       Strategy      1"
      ]
     },
     "execution_count": 261,
     "metadata": {},
     "output_type": "execute_result"
    }
   ],
   "source": [
    "user_genres"
   ]
  },
  {
   "cell_type": "markdown",
   "metadata": {},
   "source": [
    "## &#187; RECOMMEND SIMILAR GAMES (UNWEIGHTED) &#171;"
   ]
  },
  {
   "cell_type": "markdown",
   "metadata": {},
   "source": [
    "<strong>Idea:</strong> Find games with similar genres without the account of having prominent genres, platforms, and developers of inputted video game titles"
   ]
  },
  {
   "cell_type": "markdown",
   "metadata": {},
   "source": [
    "#### Function to find distance/count of similaraties for each category (genres, platforms, developers)"
   ]
  },
  {
   "cell_type": "code",
   "execution_count": 265,
   "metadata": {},
   "outputs": [],
   "source": [
    "def unweighted_distances(u_df, meta_df):\n",
    "    meta_df_length = len(meta_df)\n",
    "    user_genres = count_items(u_df, 'genre')\n",
    "    user_platforms = count_items(u_df, 'platforms')\n",
    "    user_developers = count_items(u_df, 'developers')\n",
    "    \n",
    "    # Helper Function that counts\n",
    "    def count_similar(column, category):\n",
    "        items = list(category.iloc[:,0])\n",
    "        array = []\n",
    "        for row in column:\n",
    "            count = 0\n",
    "            for item in items:\n",
    "                if item in row:\n",
    "                    count += 1\n",
    "            array.append(count)  \n",
    "        return array\n",
    "    \n",
    "    def find_distance():\n",
    "        genre_similar_counts = np.array(count_similar(list(meta_df['genre']),user_genres))\n",
    "        platform_similar_counts = np.array(count_similar(list(meta_df['platforms']),user_platforms))\n",
    "        developer_similar_counts = np.array(count_similar(list(meta_df['developers']),user_developers))\n",
    "        distance_array = []\n",
    "        \n",
    "        for i in range(meta_df_length):\n",
    "            sqr_diff_genres = np.square(len(user_genres) - genre_similar_counts[i])\n",
    "            sqr_diff_platforms = np.square(len(user_platforms) - platform_similar_counts[i])\n",
    "            sqr_diff_developers = np.square(len(user_developers) - developer_similar_counts[i])\n",
    "            distance = np.sqrt(sqr_diff_genres + sqr_diff_platforms  + sqr_diff_developers)\n",
    "            distance_array.append(distance)\n",
    "        return distance_array\n",
    "\n",
    "    return pd.DataFrame({'game_title' :list(meta_df['game_title']), 'distance': find_distance() }).sort_values(by='distance')"
   ]
  },
  {
   "cell_type": "code",
   "execution_count": 266,
   "metadata": {},
   "outputs": [],
   "source": [
    "def recommend_unweighted(u_df, meta_df):\n",
    "    suggest_df = meta_df[-meta_df[\"game_title\"].isin(user_input)]\n",
    "    suggest_df = suggest_df[suggest_df.average_metascore_ratings >= 70]\n",
    "    distances_df = unweighted_distances(u_df, suggest_df)\n",
    "    return distances_df[['game_title']]"
   ]
  },
  {
   "cell_type": "code",
   "execution_count": 267,
   "metadata": {},
   "outputs": [
    {
     "data": {
      "text/html": [
       "<div>\n",
       "<style scoped>\n",
       "    .dataframe tbody tr th:only-of-type {\n",
       "        vertical-align: middle;\n",
       "    }\n",
       "\n",
       "    .dataframe tbody tr th {\n",
       "        vertical-align: top;\n",
       "    }\n",
       "\n",
       "    .dataframe thead th {\n",
       "        text-align: right;\n",
       "    }\n",
       "</style>\n",
       "<table border=\"1\" class=\"dataframe\">\n",
       "  <thead>\n",
       "    <tr style=\"text-align: right;\">\n",
       "      <th></th>\n",
       "      <th>game_title</th>\n",
       "    </tr>\n",
       "  </thead>\n",
       "  <tbody>\n",
       "    <tr>\n",
       "      <th>626</th>\n",
       "      <td>Masters of Anima</td>\n",
       "    </tr>\n",
       "    <tr>\n",
       "      <th>617</th>\n",
       "      <td>SMITE</td>\n",
       "    </tr>\n",
       "    <tr>\n",
       "      <th>1032</th>\n",
       "      <td>Dragon Age: Inquisition - Jaws Of Hakkon</td>\n",
       "    </tr>\n",
       "    <tr>\n",
       "      <th>1609</th>\n",
       "      <td>Awesomenauts</td>\n",
       "    </tr>\n",
       "    <tr>\n",
       "      <th>643</th>\n",
       "      <td>Dragon Age: Inquisition</td>\n",
       "    </tr>\n",
       "    <tr>\n",
       "      <th>625</th>\n",
       "      <td>Awesomenauts Assemble!</td>\n",
       "    </tr>\n",
       "    <tr>\n",
       "      <th>676</th>\n",
       "      <td>Thronebreaker: The Witcher Tales</td>\n",
       "    </tr>\n",
       "    <tr>\n",
       "      <th>646</th>\n",
       "      <td>Divinity: Original Sin Enhanced Edition</td>\n",
       "    </tr>\n",
       "    <tr>\n",
       "      <th>2868</th>\n",
       "      <td>Dragon Age: Inquisition - Trespasser</td>\n",
       "    </tr>\n",
       "    <tr>\n",
       "      <th>663</th>\n",
       "      <td>Dark Souls Remastered</td>\n",
       "    </tr>\n",
       "  </tbody>\n",
       "</table>\n",
       "</div>"
      ],
      "text/plain": [
       "                                    game_title\n",
       "626                           Masters of Anima\n",
       "617                                      SMITE\n",
       "1032  Dragon Age: Inquisition - Jaws Of Hakkon\n",
       "1609                              Awesomenauts\n",
       "643                    Dragon Age: Inquisition\n",
       "625                     Awesomenauts Assemble!\n",
       "676           Thronebreaker: The Witcher Tales\n",
       "646    Divinity: Original Sin Enhanced Edition\n",
       "2868      Dragon Age: Inquisition - Trespasser\n",
       "663                      Dark Souls Remastered"
      ]
     },
     "execution_count": 267,
     "metadata": {},
     "output_type": "execute_result"
    }
   ],
   "source": [
    "recommend_unweighted(user_df,metacritic_df).head(10)"
   ]
  },
  {
   "cell_type": "code",
   "execution_count": null,
   "metadata": {},
   "outputs": [],
   "source": []
  }
 ],
 "metadata": {
  "kernelspec": {
   "display_name": "Python 3",
   "language": "python",
   "name": "python3"
  },
  "language_info": {
   "codemirror_mode": {
    "name": "ipython",
    "version": 3
   },
   "file_extension": ".py",
   "mimetype": "text/x-python",
   "name": "python",
   "nbconvert_exporter": "python",
   "pygments_lexer": "ipython3",
   "version": "3.6.2"
  }
 },
 "nbformat": 4,
 "nbformat_minor": 2
}
